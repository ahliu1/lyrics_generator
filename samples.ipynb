{
 "cells": [
  {
   "cell_type": "markdown",
   "metadata": {},
   "source": [
    "# Algorithm Run-Through"
   ]
  },
  {
   "cell_type": "markdown",
   "metadata": {},
   "source": [
    "A run-through example of how to use this repo + samples of lyrics generated."
   ]
  },
  {
   "cell_type": "code",
   "execution_count": 1,
   "metadata": {},
   "outputs": [],
   "source": [
    "from lyric_scraping import *\n",
    "from lyric_cleaning import *\n",
    "import time\n",
    "from ngram import *"
   ]
  },
  {
   "cell_type": "code",
   "execution_count": 3,
   "metadata": {},
   "outputs": [
    {
     "name": "stdout",
     "output_type": "stream",
     "text": [
      "porterrobinson_lyrics.txt\n",
      "Searching for songs by Porter Robinson...\n",
      "\n",
      "Done. Found 0 songs.\n",
      "Couldn't find the lyrics section. Please report this if the song has lyrics.\n",
      "Song URL: https://genius.com/Tokyo-town-akane-annotated\n",
      "Couldn't find the lyrics section. Please report this if the song has lyrics.\n",
      "Song URL: https://genius.com/Keudae-do-re-mi-fa-so-la-ti-do-lyrics\n",
      "Couldn't find the lyrics section. Please report this if the song has lyrics.\n",
      "Song URL: https://genius.com/Porter-robinson-dullscythe-lyrics\n",
      "Couldn't find the lyrics section. Please report this if the song has lyrics.\n",
      "Song URL: https://genius.com/Keudae-dullscythe-lyrics\n",
      "Couldn't find the lyrics section. Please report this if the song has lyrics.\n",
      "Song URL: https://genius.com/Tokyo-town-dullscythe-annotated\n",
      "Couldn't find the lyrics section. Please report this if the song has lyrics.\n",
      "Song URL: https://genius.com/Keudae-fullmoon-lullaby-lyrics\n",
      "Couldn't find the lyrics section. Please report this if the song has lyrics.\n",
      "Song URL: https://genius.com/Tokyo-town-gracias-annotated\n",
      "Couldn't find the lyrics section. Please report this if the song has lyrics.\n",
      "Song URL: https://genius.com/Porter-robinson-hollowheart-lyrics\n",
      "Couldn't find the lyrics section. Please report this if the song has lyrics.\n",
      "Song URL: https://genius.com/Porter-robinson-is-there-really-no-happiness-lyrics\n",
      "Couldn't find the lyrics section. Please report this if the song has lyrics.\n",
      "Song URL: https://genius.com/Keudae-lifelike-lyrics\n",
      "100% in the Bitch\n",
      "​a.i.ngel (Become God)\n",
      "Air On Line\n",
      "Akane\n",
      "All’s Well That Ends\n",
      "Angel Voices\n",
      "Blossom\n",
      "Booming Track\n",
      "Cheerleader\n",
      "​clarity\n",
      "Clarity\n",
      "Divinity\n",
      "Don’t Miss\n",
      "​do-re-mi-fa-so-la-ti-do\n",
      "‌do-re-mi-fa-so-la-ti-do\n",
      "Dry Your Eyes (Snippet)\n",
      "​dullscythe\n",
      "‌dullscythe\n",
      "Dullscythe\n",
      "Easy\n",
      "EON BREAK\n",
      "Everything Goes On\n",
      "Falling Away*\n",
      "Fellow Feeling\n",
      "Flicker\n",
      "Fresh Static Snow\n",
      "Fullmoon Lullaby\n",
      "Get Your Wish\n",
      "Ghost Voices\n",
      "Goodbye Again\n",
      "Goodbye To A World\n",
      "Gracias!\n",
      "GTFO\n",
      "Hazel Theme\n",
      "Hear the Bells\n",
      "Hello\n",
      "His Goodbye\n",
      "Hollowheart\n",
      "How the sky was\n",
      "Humansongs\n",
      "Is There Really No Happiness?\n",
      "It’s So Holy\n",
      "Just Friends\n",
      "Key\n",
      "Kill the DJ\n",
      "Knock Yourself Out XD\n",
      "Language\n",
      "Lifelike\n",
      "Lionhearted\n",
      "Look at the sky\n"
     ]
    }
   ],
   "source": [
    "filename, artist_name = add_song(\"Porter Robinson\", 50)"
   ]
  },
  {
   "cell_type": "code",
   "execution_count": 5,
   "metadata": {},
   "outputs": [],
   "source": [
    "cleaned = clean_data(filename, artist_name)"
   ]
  },
  {
   "cell_type": "code",
   "execution_count": 7,
   "metadata": {},
   "outputs": [
    {
     "name": "stdout",
     "output_type": "stream",
     "text": [
      "elapsed = 0.04163312911987305s\n",
      "% in the back hey, that shit, it don't care about it again\n",
      "i got a brand new feeling in cologne? hello all i need\n",
      "room to breathe\n",
      "will you all about it\n",
      "we'll be the lionhearted\n",
      "for we don't blame yourself\n",
      "and if it's true\n",
      "i will be much better place\n",
      "and you and give life to a world to see\n",
      "how children live in harmony\n",
      "these things you can make for something set\n",
      "the rhythm and drums and the booming track\n",
      "something good ai\n",
      "i'll memorize every way\n",
      "'cause i need from you is easy\n",
      "easy, easy\n",
      "loving, loving, loving, loving you talk about\n",
      "why should hurry home\n",
      "and thought i didn't need\n",
      "chasing relentlessly, still here\n",
      "i'm feeling strong\n",
      "and when we're gone, oh, oh-oh-oh-oh-oh\n",
      "yeah wiz khalifa & avanna\n",
      "don't say you choke, your urges overflow\n",
      "and i don't ever forget\n",
      "thank you\n",
      "i'll say goodbye now\n",
      "though its the end of the world\n",
      "that's like four swishers yeah, yeah, that shit, it don't ever forget\n",
      "thank you\n",
      "i'll say goodbye to a world, don't miss yeah, yeah, yeah, yeah, yeah, yeah  rounds up in t\n"
     ]
    }
   ],
   "source": [
    "t0 = time.time()\n",
    "lm = train_lm(cleaned, 8)\n",
    "t1 = time.time()\n",
    "print(\"elapsed = \" + str(t1 - t0) + \"s\")\n",
    "print(generate_text(lm, 8, 1000))"
   ]
  },
  {
   "cell_type": "code",
   "execution_count": 8,
   "metadata": {},
   "outputs": [
    {
     "name": "stdout",
     "output_type": "stream",
     "text": [
      "elapsed = 0.14461302757263184s\n",
      "% in the background? oh\n",
      "she's got hearts in her eyes\n",
      "she was rooting for me all the time to get something good are you my remedy?\n",
      "if our love's insanity\n",
      "why are you my clarity?\n",
      "why are you my clarity? if our love is tragedy, why are you my remedy?\n",
      "if our love is tragedy\n",
      "why are you my clarity? why are you my clarity? if our love is tragedy\n",
      "why are you my clarity? why are you my remedy?\n",
      "if our love's insanity\n",
      "why are you so broken up? so tell me how it felt when you're not there somehow, i don't ever forget goodbye to a world, memory goodbye to a world\n",
      "that's our own thank you\n",
      "i'll say goodbye soon\n",
      "though its the end of the world to see\n",
      "how children live in harmony\n",
      "these things you cared about it\n",
      "we'll finish what we started\n",
      "oh, i'll tell you all about it\n",
      "we'll finish what we started\n",
      "so promise me that\n",
      "we'll be the lionhearted\n",
      "they broke the walls we guarded\n",
      "but we don't care about it when i see you again i'll see you burned alive, oh cheerleader\n",
      "thought she needed me, but i need her it\n"
     ]
    }
   ],
   "source": [
    "t0 = time.time()\n",
    "lm = train_lm(cleaned, 10)\n",
    "t1 = time.time()\n",
    "print(\"elapsed = \" + str(t1 - t0) + \"s\")\n",
    "print(generate_text(lm, 10, 1000))"
   ]
  },
  {
   "cell_type": "code",
   "execution_count": 64,
   "metadata": {},
   "outputs": [
    {
     "name": "stdout",
     "output_type": "stream",
     "text": [
      "elapsed = 0.11572813987731934s\n",
      "% in the bitch i do give a shit, you drink fucking beg me to go on in my life with the wind, bye bye, baby hazel theme skrillex\n",
      "almost there guys, sorry, like\n",
      "one more minute of this refrain hilary duff\n",
      "when i see you smiling, i— hand on my, hand on my\n",
      "i, i, kiss\n",
      "i, i, i would\n",
      "i, i, kiss\n",
      "i, i, i would\n",
      "i, i, kiss\n",
      "i, i, oh and i hilary duff\n",
      "when i see you again\n",
      "thank you, i'll say goodbye soon\n",
      "though its the end of the world, don't blame yourself\n",
      "are you no longer?\n",
      "as i live in self\n",
      "you are in the code\n",
      "now that you know i'll live forever?\n",
      "it's getting starry\n",
      "wrapped up in my head\n",
      "think back all the time\n",
      "her love, the type\n",
      "that makes you happy\n",
      "why are you my remedy?\n",
      "if our love's insanity, why are you my remedy?\n",
      "if our love's insanity, why are you my clarity? why are you so broken up? so tell me how it felt when you walked on water\n",
      "did you get your wish?\n",
      "floating to the surface quicker than you sank\n",
      "idol, idol\n",
      "so tell me how it felt when you walked on water\n",
      "did you get your wish?\n",
      "floating\n"
     ]
    }
   ],
   "source": [
    "t0 = time.time()\n",
    "lm = train_lm(cleaned, 11)\n",
    "t1 = time.time()\n",
    "print(\"elapsed = \" + str(t1 - t0) + \"s\")\n",
    "print(generate_text(lm, 11, 1000))"
   ]
  },
  {
   "cell_type": "markdown",
   "metadata": {},
   "source": [
    "# More Examples"
   ]
  },
  {
   "cell_type": "markdown",
   "metadata": {},
   "source": [
    "## Lana Del Rey"
   ]
  },
  {
   "cell_type": "code",
   "execution_count": 20,
   "metadata": {},
   "outputs": [
    {
     "name": "stdout",
     "output_type": "stream",
     "text": [
      "elapsed = 1.1664507389068604s\n",
      " beaches it took thousands of people\n",
      "to put me to bed\n",
      "happy people think that's wrong?\n",
      "don't cry, honey, crazy girl\n",
      "don't you wanna fall in love, just wanna marry you, just wanna dance dance\n",
      "with you next to me\n",
      "it's so sweet swingin' to the beach and the road to the jersey shore\n",
      "one stoppin' at -eleven\n",
      "there in his white wine\n",
      "funny i don't feel the same\n",
      "once you've had a taste of living my life to speak on this mic\n",
      "and through my fingers\n",
      "you're the bossblue jeans official videoblue velvet mmm she wore blue velvet\n",
      "bluer than velvet was the light in\n",
      "at your back door yelling 'cause i like the bad boys blow smoke\n",
      "just like th good old days, tangos and tanqueray nothing can hurt me now\n",
      "nothing could satisfy you 'til the end of love's forever forever, but that don't matter to you what an unusual name, you said\n",
      "you told me love was enough, but it was not enough and bad enough baby\n",
      "i don’t wanna be friends are lost, nobody's grandma\n",
      "watching the chemtrails over the briscola club i'm on the si\n"
     ]
    }
   ],
   "source": [
    "lana = clean_data(\"ldr_lyrics.txt\", \"Lana Del Rey\")\n",
    "t0 = time.time()\n",
    "lm = train_lm(lana, 11)\n",
    "t1 = time.time()\n",
    "print(\"elapsed = \" + str(t1 - t0) + \"s\")\n",
    "print(generate_text(lm, 11, 1000))"
   ]
  },
  {
   "cell_type": "markdown",
   "metadata": {},
   "source": [
    "## TV Girl Lyrics"
   ]
  },
  {
   "cell_type": "code",
   "execution_count": 32,
   "metadata": {},
   "outputs": [
    {
     "name": "stdout",
     "output_type": "stream",
     "text": [
      "elapsed = 0.3166468143463135s\n",
      " days til sunday she said come to a stone and a half, it just can't ignore me\n",
      "you know exactly like a fool in love, like a breeze and the fire\n",
      "but you want revenge, you go, when we kissed, same ones that kind of felt like you don't know why and you do whatever makethemstay\n",
      "pretty boy if it gives you see me i'll be, i'll be faithful i’m someone conclusions\n",
      "just to know\n",
      "i hope you don't care which handsome stardust as he reached and i’m glad that all you want oh darling, everything's ruined\n",
      "i can't shove it out\n",
      "you can and tell me everyone knows\n",
      "because she can't go untold\n",
      "and i'm starting to turn the vein\n",
      "plug me in\n",
      "entertainment information, booth ?\n",
      "didn't end when the rumors true, did you get lucky\n",
      "i give your headdress\n",
      "laying low key\n",
      "m and one by one to hang in '\n",
      "and i heard it through the wine\n",
      "he had the drinks\n",
      "because struggle so as we try to aim at me, but crystal pistol with these days and pretend\n",
      "that i told ya?\n",
      "'cause he'll never know\n",
      "oh, heart, i never left them sound\n",
      "the way \n"
     ]
    }
   ],
   "source": [
    "tvgirl = clean_data(\"tvgirl_lyrics.txt\", \"Brad Petering Jason Wyman Wyatt Harmon\") # since \"tv\" and \"girl\" would get filtered out, let's filter the artists' names instead\n",
    "t0 = time.time()\n",
    "lm = train_lm(tvgirl, 8)\n",
    "t1 = time.time()\n",
    "print(\"elapsed = \" + str(t1 - t0) + \"s\")\n",
    "print(generate_text(lm, 8, 1000))"
   ]
  },
  {
   "cell_type": "markdown",
   "metadata": {},
   "source": [
    "## Del Water Gap"
   ]
  },
  {
   "cell_type": "code",
   "execution_count": 34,
   "metadata": {},
   "outputs": [
    {
     "name": "stdout",
     "output_type": "stream",
     "text": [
      "elapsed = 0.21272969245910645s\n",
      "a clear mind, a better first i met you you had all your milk money\n",
      "stash it in my bones ain't any use\n",
      "oh well i should go swimming now\n",
      "hoping that i left, it rises slow\n",
      "more than any time before\n",
      "and i've been lonesome too soon\n",
      "i wanna tell her\n",
      "to walk out for a while\n",
      "oh, to rest for a while\n",
      "oh, to rest for a while\n",
      "oh, to rest for a while\n",
      "oh, to rest for a piece right thing\n",
      "still on my way back before you were by far the pretty boring, well me that nobody else touching you right now, you're born and live inside my heart, killing people just tell me it's a slow burn\n",
      "coping on unemployment\n",
      "cracking her hair\n",
      "she pins you to leave\n",
      "'cause it's all my days\n",
      "i’d do them over and over and over again\n",
      "i'm getting sicker and sicker\n",
      "at the back door baby be my runaway\n",
      "on the bed, oh and how we do it both\n",
      "let's keep living on cigarette, till i'm back in his living on cigarettes\n",
      "from the deck out by the weight of being strangers\n",
      "i needed a beer and a hug and a way out of the dark\n",
      "the power's been a lo\n"
     ]
    }
   ],
   "source": [
    "dwg = clean_data(\"dwg_lyrics.txt\", \"Samuel Jaffe\")\n",
    "t0 = time.time()\n",
    "lm = train_lm(dwg, 9)\n",
    "t1 = time.time()\n",
    "print(\"elapsed = \" + str(t1 - t0) + \"s\")\n",
    "print(generate_text(lm, 9, 1000))"
   ]
  },
  {
   "cell_type": "markdown",
   "metadata": {},
   "source": [
    "## Beabadoobee"
   ]
  },
  {
   "cell_type": "code",
   "execution_count": 38,
   "metadata": {},
   "outputs": [
    {
     "name": "stdout",
     "output_type": "stream",
     "text": [
      "elapsed = 0.21193385124206543s\n",
      " you don't think i could never figure things i spent\n",
      "making animal noises with a messy room\n",
      "still had the pretty snowflakes\n",
      "falling on ros\n",
      "turning gold into grey and there's worse badoobadoo\n",
      "wait, i got on a place that man in the same dark place that one day\n",
      "one day\n",
      "one day more\n",
      "we could do the same\n",
      "i'm tryna do it right\n",
      "so why won't hear a single word you finally figure things that's why i’m sipping on ros\n",
      "gold into grey and the clouds are tired of getting too old for the last night do-do-do-do, do-do-do-do-do\n",
      "do-do-do scared\n",
      "boy, i’m scared\n",
      "no matter when we should watch your fault\n",
      "it’s not too late\n",
      "oh, getting tired of getting at home, cry to pavement\n",
      "i wish we could never known\n",
      "i've realised, you just wanna see you sure?\n",
      "you things that i'm right amount of sugar how you like my mind, we'reoffsoon\n",
      "she says the same\n",
      "but are you sure? it's exaggerated, we both in space\n",
      "you sit across from live performance could do the secrets\n",
      "don't go on\n",
      "all the same\n",
      "but i think i'm falling well, it w\n"
     ]
    }
   ],
   "source": [
    "bea = clean_data(\"beabadoobee_lyrics.txt\", \"Bea\")\n",
    "t0 = time.time()\n",
    "lm = train_lm(bea, 8)\n",
    "t1 = time.time()\n",
    "print(\"elapsed = \" + str(t1 - t0) + \"s\")\n",
    "print(generate_text(lm, 8, 1000))"
   ]
  },
  {
   "cell_type": "markdown",
   "metadata": {},
   "source": [
    "## Clairo"
   ]
  },
  {
   "cell_type": "code",
   "execution_count": 44,
   "metadata": {},
   "outputs": [
    {
     "name": "stdout",
     "output_type": "stream",
     "text": [
      "elapsed = 0.16307687759399414s\n",
      " hold u is it so hard to say to you, but\n",
      "if touch me now\n",
      "now mm-mm-mm-mm\n",
      "mm-mm-mm blue angel\n",
      "i heard you\n",
      "oh and\n",
      "everything i wouldn't say out loud, but\n",
      "if touch could make the dirt left in between the day that all comes back to georgia i just need you anything for the ride, i'm all alone\n",
      "still hurts deep, i don’t care about me?\n",
      "can you figure it out here just landed in another  years\n",
      "i don't get up\n",
      "and so we meet again at the party just to concentrate\n",
      "are you that i could make them hear, then my cheeks are so, so pure\n",
      "so... don't cry\n",
      "boys don't wanna be around\n",
      "all the watercolour paint\n",
      "and i’m safe right i could tell you flee?\n",
      "call me dear\n",
      "but not too hard\n",
      "remember when you my whole life\n",
      "i met you hate what it's okay\n",
      "but i can see you it will spin on its axis and find me on read\n",
      "i don't want you should think that it could be just floating, my head\n",
      "i don't leave break pulling back, i tried to, you want me, lie here for you anything you for a minute minute minute counts\n",
      "i don't wanna tal\n"
     ]
    }
   ],
   "source": [
    "clairo = clean_data(\"clairo_lyrics.txt\", \"Clairo\")\n",
    "t0 = time.time()\n",
    "lm = train_lm(clairo, 8)\n",
    "t1 = time.time()\n",
    "print(\"elapsed = \" + str(t1 - t0) + \"s\")\n",
    "print(generate_text(lm, 8, 1000))"
   ]
  },
  {
   "cell_type": "markdown",
   "metadata": {},
   "source": [
    "## Gracie Abrams"
   ]
  },
  {
   "cell_type": "code",
   "execution_count": 46,
   "metadata": {},
   "outputs": [
    {
     "name": "stdout",
     "output_type": "stream",
     "text": [
      "elapsed = 0.3145420551300049s\n",
      " i missed your outline\n",
      "you were the best of this time i've packed my bags in the sky mm\n",
      "you can keep it locked away until you really listen\n",
      "i hate the image of you\n",
      "a little more of you\n",
      "i know you don't know what i'm shattered but we'll fix your broken pieces\n",
      "i'm thinking everything in-between everythin' to me, next to me when we talk\n",
      "you start to let go\n",
      "when the lights\n",
      "don't love you yet, but probably go back home\n",
      "why does that feel difficult, difficult my double vision, spinning around it, all for nothing left to say, before i turn away\n",
      "your words felt like a hard rain in\n",
      "i'm pretty crier and now she's beautiful and funny and smart like nothin' now when you're just kicking it what are drugs, if not a bump in the middle of the bar\n",
      "you're probably wasted\n",
      "wasted and part of me wants you backwards?\n",
      "jump in the shallow end headfirst\n",
      "burn my emergency contact\n",
      "run for the better\n",
      "you’re a dead-end street\n",
      "but won't work like the burden oh\n",
      "but i'm not your face and know that we're not seeing yo\n"
     ]
    }
   ],
   "source": [
    "gracie = clean_data(\"gracieabrams_lyrics.txt\", \"Gracie Abrams\")\n",
    "t0 = time.time()\n",
    "lm = train_lm(gracie, 9)\n",
    "t1 = time.time()\n",
    "print(\"elapsed = \" + str(t1 - t0) + \"s\")\n",
    "print(generate_text(lm, 9, 1000))"
   ]
  },
  {
   "cell_type": "markdown",
   "metadata": {},
   "source": [
    "## Lorde"
   ]
  },
  {
   "cell_type": "code",
   "execution_count": 48,
   "metadata": {},
   "outputs": [
    {
     "name": "stdout",
     "output_type": "stream",
     "text": [
      "elapsed = 0.20558786392211914s\n",
      " lux we're brave and no one around here all supposed to swim now if ya wanna skip my calls now\n",
      "well, your corolla\n",
      "i'm hanging on the mousey hair\n",
      "and the schoolyard\n",
      "oh, me and julio down by the same? do your t-shirt sleeves\n",
      "and claim a new art form\n",
      "showin' people how little but we're at home\n",
      "it drives you crazy over my touch but it's propane for the northern light, i want you in your head, in my heart now we barely hang out\n",
      "i'm just useless and she'll send the whole time and get clean\n",
      "you're a little much fun\n",
      "i didn't compare\n",
      "tell me\n",
      "i love every summer of \n",
      "under the silver sun in the money\n",
      "baby, love me you've got me, runaway\n",
      "you steal the air tonight, lose my mind\n",
      "when you're shooting on like dominoes\n",
      "must feel alright, right, i wanted something\n",
      "some of the secrets\n",
      "your hand forevermore\n",
      "is this temptation\n",
      "fallin' right way to do the clear that touched a nerve\n",
      "you can hang with us, us\n",
      "but what i'd be without weight now\n",
      "i heard me right in the silver sun in the pictures yeah\n",
      "getting you\n"
     ]
    }
   ],
   "source": [
    "lorde = clean_data(\"lorde_lyrics.txt\", \"Lorde\")\n",
    "t0 = time.time()\n",
    "lm = train_lm(lorde, 8)\n",
    "t1 = time.time()\n",
    "print(\"elapsed = \" + str(t1 - t0) + \"s\")\n",
    "print(generate_text(lm, 8, 1000))"
   ]
  },
  {
   "cell_type": "markdown",
   "metadata": {},
   "source": [
    "## Troye Sivan"
   ]
  },
  {
   "cell_type": "code",
   "execution_count": 52,
   "metadata": {},
   "outputs": [
    {
     "name": "stdout",
     "output_type": "stream",
     "text": [
      "elapsed = 0.6165802478790283s\n",
      "/ now we're livin'\n",
      "it's the hardest thing i've said guess i might understand it\n",
      "if you couldn't give a fuck & gordi\n",
      "i remember how we got those moves\n",
      "people wanna know how we got that feelin' alive, a teenager\n",
      "tryna figure it out\n",
      "living for, like, look at you are or i can take\n",
      "they can fight up until we drink from the silenc\n",
      "of a hollywood love affair\n",
      "waking up at you all to myself\n",
      "when i'm feeling right\n",
      "i drink but i can't make it to number one\n",
      "open your eyes my dreams that you want\n",
      "translate your lip\n",
      "now run with it\n",
      "let's fuck around , social media proved indispensable to shaping his pointy black helmut lang boots about on the front seat\n",
      "fun, you and me in the stairs\n",
      "talk about, nah\n",
      "all she wanna know how i'm doing all this nerve, how did i come to lose my blue moon boyfriend – a model and photographer named jacob bixenman – he hit his pool for a soak. he pointedly did not believe that i know you know i'm vulnerable, so sad and alone\n",
      "but i can't even mind at all, mm\n",
      "it's like superna\n"
     ]
    }
   ],
   "source": [
    "troye = clean_data(\"troyesivan_lyrics.txt\", \"Troye Sivan\")\n",
    "t0 = time.time()\n",
    "lm = train_lm(troye, 9)\n",
    "t1 = time.time()\n",
    "print(\"elapsed = \" + str(t1 - t0) + \"s\")\n",
    "print(generate_text(lm, 9, 1000))"
   ]
  },
  {
   "cell_type": "markdown",
   "metadata": {},
   "source": [
    "## Ariana Grande"
   ]
  },
  {
   "cell_type": "code",
   "execution_count": 55,
   "metadata": {},
   "outputs": [
    {
     "name": "stdout",
     "output_type": "stream",
     "text": [
      "elapsed = 0.1605377197265625s\n",
      " you know, baby oh\n",
      "almost baby, but we ain't my thing\n",
      "the way i've been eatin' healthy\n",
      "you know, baby oh, i won't ever come out right\n",
      "i get all tongue-tied and twisted\n",
      "i can't explaining, i'm sure it's very draining\n",
      "pulling off a christmas eve world tour\n",
      "my point in this very worthy cause\n",
      "how 'bout we take a moment\n",
      "yeah, to get an a how to sing it out\n",
      "c'mon, c'mon, lemme show you how to get an a\n",
      "spell me and yours, i want it yeah, yeah, and he's all that\n",
      "hm, yeah, yeah\n",
      "boy, you might not dance like m.j., r.i.p\n",
      "but i will give the best of me all i want for christmas\n",
      "this is it's his marvelous missus\n",
      "who gets it done the other three-six-four\n",
      "who's really fucking good, everybody else, woo\n",
      "billy bought it\n",
      "i see it, i want it, i got it, yeah, forget about him, yeah\n",
      "billy gonna wake his wife gon' live in a bit closer\n",
      "a little bit smarter\n",
      "a little more homework\n",
      "we all have a little bit older\n",
      "a little bit braver\n",
      "a little bit older\n",
      "a little bit of time away?\n",
      "i got a bad idea i've been doing stu\n"
     ]
    }
   ],
   "source": [
    "ari = clean_data(\"arianagrande_lyrics.txt\", \"Ariana Grande\")\n",
    "t0 = time.time()\n",
    "lm = train_lm(ari, 9)\n",
    "t1 = time.time()\n",
    "print(\"elapsed = \" + str(t1 - t0) + \"s\")\n",
    "print(generate_text(lm, 9, 1000))"
   ]
  },
  {
   "cell_type": "markdown",
   "metadata": {},
   "source": []
  }
 ],
 "metadata": {
  "kernelspec": {
   "display_name": "ml",
   "language": "python",
   "name": "python3"
  },
  "language_info": {
   "codemirror_mode": {
    "name": "ipython",
    "version": 3
   },
   "file_extension": ".py",
   "mimetype": "text/x-python",
   "name": "python",
   "nbconvert_exporter": "python",
   "pygments_lexer": "ipython3",
   "version": "3.12.4"
  }
 },
 "nbformat": 4,
 "nbformat_minor": 2
}
