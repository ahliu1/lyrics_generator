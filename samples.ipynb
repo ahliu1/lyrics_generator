{
 "cells": [
  {
   "cell_type": "markdown",
   "metadata": {},
   "source": [
    "# Algorithm Run-Through"
   ]
  },
  {
   "cell_type": "markdown",
   "metadata": {},
   "source": [
    "A run-through example of how to use this repo + samples of lyrics generated."
   ]
  },
  {
   "cell_type": "code",
   "execution_count": 1,
   "metadata": {},
   "outputs": [],
   "source": [
    "from lyric_scraping import *\n",
    "from lyric_cleaning import *\n",
    "import time\n",
    "from ngram import *"
   ]
  },
  {
   "cell_type": "code",
   "execution_count": 4,
   "metadata": {},
   "outputs": [
    {
     "name": "stdout",
     "output_type": "stream",
     "text": [
      "cigarettesaftersex_lyrics.txt\n",
      "Searching for songs by Cigarettes After Sex...\n",
      "\n",
      "Done. Found 0 songs.\n",
      "Couldn't find the lyrics section. Please report this if the song has lyrics.\n",
      "Song URL: https://genius.com/Cigarettes-after-sex-ambien-slide-lyrics\n",
      "Couldn't find the lyrics section. Please report this if the song has lyrics.\n",
      "Song URL: https://genius.com/Cigarettes-after-sex-dreams-from-bunker-hill-lyrics\n",
      "Couldn't find the lyrics section. Please report this if the song has lyrics.\n",
      "Song URL: https://genius.com/Cigarettes-after-sex-hideaway-lyrics\n",
      "Couldn't find the lyrics section. Please report this if the song has lyrics.\n",
      "Song URL: https://genius.com/Cigarettes-after-sex-holding-you-holding-me-lyrics\n",
      "Couldn't find the lyrics section. Please report this if the song has lyrics.\n",
      "Song URL: https://genius.com/Cigarettes-after-sex-hot-lyrics\n",
      "Couldn't find the lyrics section. Please report this if the song has lyrics.\n",
      "Song URL: https://genius.com/Cigarettes-after-sex-silver-sable-lyrics\n",
      "Affection\n",
      "Ambien Slide\n",
      "Apocalypse\n",
      "Baby Blue Movie\n",
      "Bubblegum\n",
      "Crush\n",
      "Cry\n",
      "Dark Vacay\n",
      "Don’t Let Me Go\n",
      "Do You Know Where I Should Go?\n",
      "Dreaming of You\n",
      "Dreams From Bunker Hill\n",
      "Each Time You Fall in Love\n",
      "Every Light Is Out\n",
      "Falling in Love\n",
      "Flash\n",
      "Heavenly\n",
      "Hentai\n",
      "Hideaway\n",
      "Holding you, Holding me\n",
      "Hot\n",
      "I Can See You\n",
      "I Can’t Stop These Tears from Falling\n",
      "I’m a Firefighter\n",
      "John Wayne\n",
      "K.\n",
      "Keep On Loving You\n",
      "Kiss It Off Me\n",
      "Lay Here\n",
      "Motion Picture Soundtrack\n",
      "Neon Moon\n",
      "Night Train\n",
      "Nothing’s Gonna Hurt You Baby\n",
      "On Repeat\n",
      "Opera House\n",
      "Our Last Day\n",
      "Pistol\n",
      "Please Don’t Cry\n",
      "Pure\n",
      "Run Towards Your Fear\n",
      "Sesame Syrup\n",
      "Silver Sable\n",
      "Sing\n",
      "Spanish Prayers\n",
      "Starry Eyes\n",
      "Stop Waiting\n",
      "Sunsetz\n",
      "Sweet\n",
      "Tejano Blue\n",
      "Touch\n"
     ]
    }
   ],
   "source": [
    "filename, artist_name = add_song(\"Cigarettes After Sex\", 50)"
   ]
  },
  {
   "cell_type": "code",
   "execution_count": 6,
   "metadata": {},
   "outputs": [
    {
     "data": {
      "text/plain": [
       "\"affection i know that you say i get mean when i'm drinking, but\\nthen again, sometimes i get really sweet so\\nwhat does it mean if i tell you to go fuck yourself?\\nor if i say that you're beautiful to me? it's affection, always\\nooh, you're gonna see it someday\\nmy attention for you\\neven if it's not what you need sometimes we talk all night long, we don't shut up\\nand when it's late, we'll say we're still wide awake so\\nwe love to talk about how you'll come up to visit me\\nand we'll rent a car and we'll drive upstate it's affection, always\\nooh, you're gonna see it someday\\nmy attention's on you\\neven if it's not what you need i think of you, i want you too\\ni'd fall for you\\ni think of you, i want you too\\ni'd fall for you\\ni think of you, i want you too\\ni'd fall for you\\ni think of you, i want you too\\ni'd fall for you it's affection, always\\nit's affection, always ambien slide none apocalypse you leapt from crumbling s watching cityscapes turn to dust\\nfilming helicopters crashing in the ocean from way above got the music in you, baby, tell me why\\ngot the music in you, baby, tell me why\\nyou've been locked in here forever and you just can't say goodbye kisses on the foreheads of the lovers wrapped in your arms\\nyou've been hiding them in hollowed out pianos left in the dark got the music in you, baby, tell me why\\ngot the music in you, baby, tell me why\\nyou've been locked in here forever and you just can't say goodbye your lips, my lips\\napocalypse\\nyour lips, my lips\\napocalypse\\ngo and sneak us through the rivers\\nflood is rising up on your knees\\noh, please\\ncome out and haunt me, i know you want me\\ncome out and haunt me sharing all your secrets with each other since you were kids\\nsleeping soundly with the locket that she gave you clutched in your fist got the music in you, baby, tell me why\\ngot the music in you, baby, tell me why\\nyou've been locked in here forever and you just can't say goodbye\\nyou've been locked in here forever and you just can't say goodbye oh, when you're all alone\\ni will reach for you\\nwhen you're feeling low\\ni will be there too baby blue movie baby blue movie with alwaystuesdays\\nand her love, sarah, at brooklyn house hotel i'm just a hurricane eye hurricane eye\\nthey're not a little too shy too shy\\nknow how i wanted to sing wanted to sing\\nknow how they wanted to sing wanted to sing don't you understand?\\ndon't you know the love that you want's all the love that you needed?\\ngave me all you had\\ngave me all the love that you want, all the love that you needed baby blue movie with alwaystuesdays\\nand her new besti, perfectly sweet i'm just a hurricane ye hurricane eye\\nthey're not a little too shy too shy\\nknow how i wanted to sing wanted to sing\\nknow how they wanted to sing wanted to sing don't you understand?\\ndon't you know the love that you want's all the love that you needed?\\ngave me all you had\\ngave me all the love that you want, all the love that you needed\\ndon't you understand?\\ndon't you know the love that you want's all the love that you needed?\\ngave me all you had\\ngave me all the love that you want, all the love that you needed\\ndon't you understand?\\ndon't you know the love that you want's gonna make it feel sweeter?\\ngave me all you had\\ngave me all the love that you want, all the love that you needed bubblegum lickin' the barrel of a gun\\nchewin' it like it's bubblegum\\nwave it like a magic wand\\npop a few rounds off just for fun go to the strip club all alone\\nthinkin' that i could take you home\\nto picture you with those other guys\\nis drivin' me crazy all the time well, i never wanted to be with you\\nbut i think i'm falling, so what can i do?\\nyou'll just lead me on 'til i'm drowning in tears oh, and you're holdin' me\\noh, and you're holdin' me\\noh, and you're holdin' me\\nas if i was the\\nlast man standing on earth well, i never wanted to be with you\\nbut i think i'm falling, so what can i do?\\nyou'll just lead me on 'til i'm drowning in tears crush i wanna line my walls with photographs you sent\\nof you lying in your swimsuit on the bed\\ncan't live without your love inside me now\\ni'll find a way to slip into your skin, somehow i wanna fuck your love slow\\ncatch my heart, go swim\\nfeel your lips crush\\nhold you here, my loveliest friend instumental i love to watch you when you're trying on your clothes\\nand now you're all i think about when i'm alone\\ncan't wait to feel your love inside me now\\nwe'll have a drink or two and we'll go to your house i wanna fuck your love slow\\ncatch my heart, go swim\\nfeel your lips crush\\nhold you here, my loveliest friend instumental i wanna fuck your love slow\\ncatch my heart, go swim\\nfeel your lips crush\\nhold you here, my loveliest friend catch my heart, go swim\\nfeel your lips crush\\nhold you here my loveliest friend cry it's making you cry every time\\nyou give your love to me this way\\nsaying you'd waitforme to stay\\niknow it hurts you but i needto tell you something\\nmy heart just can't be faithful for long\\ni swear i'll only make you cry maybe i'd change for you someday\\nbut i can't help the way i feel\\nwish i was good\\nwish that i could give you my love now but i need to tell you something\\nmy heart just can't be faithful for long\\ni swear i'll only make you cry break i need to tell you something\\nmy heart just can't be faithful for long\\ni swear i'll only make you cry dark vacay in summer i'm living on pills and lines\\nwith someone i love, i don't really like\\nbeen sleeping on the tile and keeping out the light\\nthen sipping château lafite rothschild so come on, come on, dark star\\nbeen loving you and i can't get enough, dark star\\nwe don't need brazzers feel the world around you\\nfeel the world surround you\\nfeel the world around you\\nfeel it all around you crash with summertime liquor at o'clock\\nbeen drinking too heavy on adderall\\ni listen to the last message that you left\\nthen the voice from the suicide hotline so come on, come on, dark star\\nbeen loving you and i can't get enough, dark star\\nwe don't need brazzers feel the world around you\\nfeel the world surround you\\nfeel the world around you\\nfeel it all around you crash feel the world around you\\nfeel the world surround you\\nfeel the world around you\\nfeel it all around you crash and fall crash and fall\\ncrash and fall don’t let me go when i was young, i thought the world of you\\nyou were all that i wantedthen\\nitfaded and inever saw you again\\nbut i won'tforget the love we had come to me now\\ndon't let me go\\nstay by my side\\ndon't let me go\\nstay with me still\\ni've missed you so when i was young, i thought the world of you\\ni was dumb to let you drift away\\nand though i guess it had to come to an end\\nno one else could have the love we shared come to me now\\ndon't let me go\\nstay by my side\\nand my heart goes\\nout to you\\nwherever you are come to me now\\ndon't let me go\\nstay by my side\\ndon't let me go\\nstay with me still\\ni've missed you so do you know where i should go? do you know where i should go?\\nfeels like death do you know where i should go?\\nfeels like death memory\\nmemory\\nmemory do you know where i should go?\\nfeels like death dreaming of you seen you from afar\\nwondered who you are\\nwondered what you're like\\nthink you're just my type and now i'm dreaming, dreaming, dreaming, dreaming, dreaming of you\\nand now i'm dreaming, dreaming, dreaming, dreaming, dreaming of you want you, yes, i do\\nbet you never knew it\\nthink you'd suit me fine\\nwant you all the time and now i'm dreaming, dreaming, dreaming, dreaming, dreaming of you\\nand now i'm dreaming, dreaming, dreaming, dreaming, dreaming of you you're the one i'm calling on\\nyou're the one who's calling me to have it\\nyou're the one i'm calling on\\nyou're the one who's calling me to have it\\nyou're the one i'm calling on\\nyou're the one who's calling me to have it\\nyou're the one i'm calling on\\nyou're the one who's calling me to have it dreaming, dreaming, dreaming, dreaming, dreaming of you\\ndreaming, dreaming, dreaming, dreaming, dreaming of you\\ndreaming, dreaming, dreaming, dreaming of you\\ndreaming, dreaming, dreaming, dreaming of you dreams from bunker hill none each time you fall in love each time you fall in love\\nit's clearly not enough\\nyou sleep all day and drive out in l.a\\nit isn't safe\\nand each time you kiss a girl\\nyou never know what it's worth\\nyou say all of the words they wanna hear\\nit isn't real she took you for a ride in summer, baby\\nlost all your money to her\\nall i wanna know is if you love her\\nhow come you never give in? each time you have a dream\\nyou never know what it means\\nyou see that open road and never know which way to go\\nand each time you fall in love\\nit's clearly not enough\\nyou sleep all day and drive out in l.a\\nit isn't safe she took you for a ride in summer, baby\\nlost all your money to her\\nall i wanna know is if you love her\\nhow come you never give in? every light is out as i walk down your street i'm coming home\\ni'm coming home\\ni'm coming home\\ni'm coming every\\nevery\\nevery light is out every\\nevery\\nevery light is out as i walk down your street i'm coming home\\ni'm coming home\\ni'm coming home\\ni'm coming falling in love when i hold you close to me\\ni could always see a house by the ocean\\nlastnighti could hearthe waves\\nas i heard you say,all that i want is to be yours falling in love\\nfalling in love\\ndeeper than i've felt it before\\nwith you, baby\\ni feel i'm falling in love with all my heart back when you were far away\\nwe would go on dates to watch the same movie\\nand you were imagining sitting next to me\\nholding my hand for the whole thing falling in love\\nfalling in love\\ndeeper than i've felt it before\\nwith you, baby\\ni feel i'm falling in love with all my heart break falling in love\\nfalling in love\\ndeeper than i've felt it before\\nwith you, baby\\ni feel i'm falling in love with all my heart flash i'm a flash, oh, you were blinded by the love i had\\ni'm a flash, the light could only get in through the cracks and you've gotta do the right thing, do the right thing, baby\\nyou're the white swan in the photograph\\ndo the right thing, do the right thing, baby\\nyou're the white swan in the photograph when they crashed the helicopters in my heart, it ripped\\ncut in half, you saw me lying there bleeding to death and you had to do the right thing, do the right thing, baby\\nyou're the white swan in the photograph\\ndo the right thing, do the right thing, baby\\nyou're the white swan in the photograph now i stand on the stage\\ni forget my lines to your play satan's imagination\\nand a voice in my head's causing suicide searching for any way to remember them and you've got to do the right thing, do the right thing, baby\\nyou're the white swan in the photograph\\ndo the right thing, do the right thing, baby\\nyou're the white swan in my photograph heavenly wanting your love to come into me\\nfeeling it slow, over this dream\\ntouch me with akiss\\ntouchme with akiss\\nnow you're above feeling it still\\ntellme it's love, tell me it's real\\ntouch me with a kiss, feel me on your lips 'cause this is where\\ni wanna be\\nwhere it's so sweet\\nand heavenly\\ni'm giving you all my, giving you all my\\ngiving you all my love\\ngiving you all my, giving you all my\\ngiving you all my love\\nall my love needing you now to come into me\\nfeeling it slow, over this dream\\ntouch me with a kiss\\nfeel me on your lips\\nwhen you're above feeling it still\\ntell me it's love, tell me it's real\\ntouch me with a kiss, touch me with a kiss 'cause this is where\\ni wanna be\\nwhere it's so sweet\\nand heavenly\\ni'm giving you all my, giving you all my\\ngiving you all my love\\ngiving you all my, giving you all my\\ngiving you all my love\\nall my love and when you're far away\\ni still feel it all\\nand when you're far away\\ni still feel it all the same\\nand when you're far away, far away i'm giving you all my, giving you all my\\ngiving you all my love\\ngiving you all my, giving you all my\\ngiving you all my love hentai there was a hentai video that i saw\\ni told you about the night that wefirstmade love\\nabout agirl who as soon as shemade you cum\\ncould show you the future and tell you your fortune beautiful hearts are in your eyes\\ni've been waiting for you to fall for me\\nand let me in your life\\ni've been waiting for you told you i wanted to die in an airplane crash\\nover the ocean, that it was romantic\\nbut you didn't like it, thought it was stupid, and\\nthinking of me dead was making you feel bad beautiful hearts are in your eyes\\ni've been waiting for you to fall for me\\nand let me in your life\\ni've been waiting for you break beautiful hearts are in your eyes\\ni've been waiting for you to fall for me\\nand let me in your life\\ni've been waiting for you hideaway none holding you, holding me none hot none i can see you i can feel you\\ni can see you\\nsee you swimming through the night\\nsee you naked\\nfeel the water\\nrunning 'round and 'round your inner thigh i can feel you\\ni can see you\\nsee you swimming through the night\\nsee you naked\\nfeel the water\\nrunning 'round and 'round your inner thigh make love to me inside the darkness\\nmake love to me inside the darkness now we're walking by the river\\nnow we're strolling by the lake\\nnow we're walking to the ocean\\ni can see you want to take my hand make love to me inside the darkness\\nmake lov to me inside the darknss i can see your clothes are soaked\\nby all of the rain that fell\\ndon't you wonder why it smells that way?\\ni gave you a rose that day\\ni took all its thorns away\\ndon't you wonder why it smells that way?\\nthat way now we're walking by the river\\nnow we're strolling to the lake\\nnow we're walking by the ocean\\ni can see you want to take my hand\\nmy hand, my hand, my hand, my hand i can’t stop these tears from falling i used to go out at night\\ni used to go out each day\\ni used to go out & feel the sun on the silent day\\nso it's coming as quite a shock\\na heart could come so undone\\nthe strings could unravel fast\\nhow quickly the war is won & i can't stop these tears from falling\\nright away\\ni know you're calling i can't stop these tears from falling now if i was the thinking heart\\n& you were the loving soul\\nwith all of my feelings sharp\\nyou came crashing in my world\\na music of cathedrals\\nbouncing along the glass\\nit's echoing through my ears\\nyou took it away so fast oh well\\nthe lights are low\\n& i don't need a friend to call my own\\n'cause i know it's the end\\nit's the end i’m a firefighter baby, i'm a firefighter trapped in a burning house in a silent picture\\nand there is no way out except to watch the love between us die that's called the falling angel\\nit's an amusement park ride\\nsome sort of rollercoaster\\nit takes you up and when it brings you down\\nit gives you butterflies break and now i'm longing for your kiss\\nbet you could read it on my lips\\nohh\\nwaterfalls, i'm jumping down break i know you're leaving, baby\\nthe birds are flying south\\nand there's nothing to say\\ni need you here\\ni need your love inside of mine like i could die\\ni need your love inside of mine like i could die john wayne he's got so much love for her\\nbut he doesn't know what to do\\nsitting in the car\\nwaiting outside her school he's in for a heartbreak\\nif it's all been blind faith\\nfrom my point of view baby, he's got to be crazy\\nliving like he's john wayne\\nalways facing the world\\nor chasing the girl\\nbaby, he's got to be crazy he's got so much in his heart\\nbut he doesn't know what to do\\nall he wants is her\\nlying inside his room he's always feeling cheated,\\ntelling all his secrets\\nthat i couldn't keep baby, he's got to be crazy\\nliving like he's john wayne\\nalways facing the world\\nor chasing the girl\\nbaby, he's got to be crazy\\nbaby, he's got to be crazy\\nliving like he's john wayne\\nalways facing the world\\nor chasing the girl\\nbaby, he's got to be crazy k. i remember when i first noticed that you liked me back\\nwe were sitting down in a restaurant, waiting for the check\\nwe had made love earlier that day with no strings attached\\nbut i could tell that something had changed, how you looked at me then kristen, come right back\\ni've been waiting for you\\nto slip back in bed\\nwhen you light the candle and on the lower east side, you're dancing with me now\\nand i'm taking pictures of you with flowers on the wall\\nthink i like you best when you're dressed in black from head to toe\\nthink i like you best when you're just with me and no one else kristen, come right back\\ni've been waiting for you\\nto slip back in bed\\nwhen you light the candle and i'm kissing you, lying in my room\\nholding you until you fall asleep\\nand it's just as good as i knew it would be\\nstay with me, i don't want you to leave kristen, come right back\\ni've been waiting for you\\nto slip back in bed\\nwhen you light the candle keep on loving you you should have seen by the look in my eyes\\nthat there was somethin' missin'\\nyou should have known by the tone of my voice\\nbut you didn't listen\\nyou play dead, but you never bled\\ninstead you lie still in the grass all coiled up and hissin' and i know all about those men\\nstill i don't remember\\n'cause it was us, baby, way before them\\nand we're still together and i meant every word i said\\nwhen i said that i love you i meant that i love you forever and i'm gonna keep on lovin' you\\n'cause it's the only thing i wanna do\\ni don't wanna sleep\\ni just wanna keep on lovin' you interlude and i meant every word that i said\\nwhen i said that i love you i meant that i love you forever and i'm gonna keep on lovin' you\\n'cause it's the only thing i wanna do\\ni don't wanna sleep\\ni just wanna keep on lovin' you i don't wanna sleep\\ni just wanna keep on lovin' you kiss it off me saw you on the side of the road\\ni could see you were walkin' slow\\ndrinkin' aslurpee\\nina peach baseballcap\\nfallin' in my lap\\nyou were sothirsty could you love me instead\\nof all the boyfriends you get?\\nknow i'd make you forget\\nabout all of those rich fuckboys kiss it off me\\nif you're gonna break my heart\\nthis is a good start\\nkiss it off me you always bite your lip\\nwhen you're feelin' it\\nas we move slowly\\nand your peach baseball cap\\nis tossed under the rack\\nof clothes and your jewelry and you beg for it\\nin the morning again\\nbefore you go to the gym\\nsaid it's a bad habit you just can't quit kiss it off me\\nif you're gonna break my heart\\nthis is a good start\\nkiss it off me kiss it off me\\nif you're gonna break my heart\\nthis is a good start\\nkiss it off me\\nif you're gonna break my heart\\nthis is a good start\\nkiss it off me lay here stoned like i lay here\\nlay here\\nlay here stoned like i lay here\\nlay here\\nlay here alone when you were on the ground & it's driving me crazy\\n& it's driving me crazy\\n& it's driving me crazy\\n& it's driving me crazy\\n& it's driving me crazy\\n& it's driving me crazy\\n& it's driving me crazy\\n& it's driving me crazy motion picture soundtrack white wine and sleeping pills\\nhelp me get back to your arms\\ncheap and sad films\\nhelp me get where i belong i think you're crazy, baby\\ni think you're crazy, baby stop sending letters\\nletters always get burned\\nit's not like the movies\\nthey fed us on little white lies i think you're crazy, baby\\ni think you're crazy, baby i will see you in the next life break i think you're crazy, baby\\ni think you're crazy, baby\\ni think you're crazy, baby\\ni think you're crazy, baby neon moon when the sun goes down on my side of town\\nthat lonesome feeling comes to my door\\nthe whole world turns blue\\nthere's a rundown bar 'cross the railroad tracks\\ni've got a table for two way in the back\\nwhere i sit alone and think of you i spend most every night\\nbeneath the light of a neon moon if you lose your one and only\\nthere's always room here for the lonely\\nto watch your broken dreams\\ndance in and out of the beams of a neon moon i think of two young lovers running wild and free\\ni close my eyes, and sometimes see\\nyou in the shadows of this smoke-filled room\\nno telling how many tears i've sat here and cried\\nor how many lies that i've lied\\ntelling my poor heart you'll come back one day i spend most every night\\nbeneath the light of a neon moon if you lose your one and only\\nthere's always room here for the lonely\\nto watch your broken dreams\\ndance in and out of the beams of a neon moon but i'll be alright as long as there's light\\nfrom a neon moon\\nand i'll be alright as long as there's light\\nfrom a neon moon night train used to be around\\nlost and found\\nthinking it's good\\nthat's the way it should\\nstanding in the rain\\nwaiting for the train\\n'cause i miss you, honey\\nbaby, i do, i do\\ncan't take it anymore\\ngoing next door\\ngonna find out\\nwhat it's all about\\ni'm standing in the rain\\nwaiting for the train\\n'cause i miss you, honey\\nbaby, i do, i do and i want you, want you\\nkept out, baby, on the night train\\ni want you, want you\\nkept out, baby, on the night train\\nwell, i want you, want you\\nand i'm kept out, baby, on the night train\\ni want you, want you\\nkept out, baby no, it's not right\\nwhen you're out of sight\\nfeeling so slow\\nletting you go\\n'cause i need your helping hand\\noh, i need it bad\\n'cause i miss you, honey\\nbaby, i do, i do and i want you, want you\\nkept out, baby, on the night train\\ni want you, want you\\nkept out, baby, on the night train\\nwell, i want you, want you\\nkept out, baby, on the night train\\ni want you, want you\\nkept out, baby\\non the night train and i'm not gonna go back home\\nand i'm not gonna go back home\\nand i'm not gonna go back home\\ngonna go back home 'cause i want you, want you\\nkept out, baby, on the night train\\ni want you, want you\\nkept out, baby, on the night train\\nwell, i want you, want you\\nand i'm kept out, baby, on the night train\\ni want you, want you\\nkept out, baby\\non the night train, yeah, yeah\\nyeah, yeah\\nyeah, yeah nothing’s gonna hurt you baby whispered something in your ear\\nit was a perverted thing to say\\nbut i said it anyway\\nmade you smile and look away nothing's gonna hurt you baby\\nas long as you're with me you'll be just fine\\nnothing's gonna hurt you baby\\nnothing's gonna take you from my side when we dance in my living room\\nto that silly 's r&b\\nwhen we have a drink or three\\nalways ends in a hazy shower scene nothing's gonna hurt you baby\\nas long as you're with me you'll be just fine\\nnothing's gonna hurt you baby\\nnothing's gonna take you from my side when we laugh into the microphone and sing\\nwith our sunglasses on to our favorite songs\\nwhen we're laughing in the microphone and singing\\nwith our sunglasses on to our favorite songs nothing's gonna hurt you baby\\nnothing's gonna take you from my side on repeat greg gonzalez\\nwhere the girls are young and down\\nand hot as fuck\\nwhere they're dancing in the streets\\nwith nothing on goody grace\\ndrivin' all night, lost track of time\\nall these lonely roads aren't how they used to feel\\nbig dreams in our eyes, carefree, yet so blind\\nbeen afraid of anything that's real\\nwatch the sunset through highway fields highway fields\\nif i could go back then i'd stay there i'd stay there\\njust us wrapped up in the autumn air in the autumn air\\nact like i don't but i'll always care i'll always care\\noh babe, i'm gon' go greg gonzalez\\nwhere the girls are young and down\\nand hot as fuck\\nwhre they're dancing in th streets\\nwith nothing on\\nwe'll drive your car to the beach with this song on repeat\\nyou showed me\\nwe'll drive your car to the beach with this song on repeat\\noh, baby lexi jayde\\nstood on the edge\\nwe never said\\nanything that felt too honest\\nin the backseat\\nkicked off your nikes\\nmy hand in your jacket pocket but\\nsome love just lasts a season\\nit gets fucked up for no good reason oooh\\nbeen trying to find the feeling\\nthat we had\\nlet’s go back\\nno one has to know\\njust want to go greg gonzalez & lexi jayde\\nwhere the girls are young and down\\nand hot as fuck\\nwhere they're dancing in the streets\\nwith nothing on\\nwe'll drive your car to the beach with this song on repeat\\nyou showed me\\nwe'll drive your car to the beach with this song on repeat\\noh, baby opera house built an opera house for you in the deepest jungle\\nand i walked across its stage, singing with my eyes closed\\ni've got a love for you i just can't escape\\nall of my love for you cuts me like barbed wire ooh, i was meant to love you\\nand always keep you in my life\\nooh, i was meant to love you\\ni knew i loved you at first sight if i abandoned love, i'd be a man without dreams ooh\\ni'd rather be out there staring death right between its eyes now\\nand i can still hear the sound of you crying through the night\\nthere in the opera house with no one else for miles ooh, i was meant to love you\\nand always keep you in my life\\nooh, i was meant to love you\\ni knew i loved you at first sight ooh, i was meant to love you\\nand always keep you in my life\\nooh, i was meant to love you\\ni knew i loved you at first sight our last day our last day\\ni'm holding on to you\\nour last day\\nour last day\\ni'm holding on to you\\nour last day our last day\\ni'm holding on to you\\nour last day\\nour last day\\ni'm holding on to you\\nour last day in the middle\\nin the middle\\nin the middle of a night\\nin the middle\\nin the middle\\nin the middle of a night our last day\\nour last day\\nour last day\\nour last day\\nour last day\\nour last day our last day\\ni'm coming home to you\\nour last day\\nour last day\\ni'm coming home to you\\nour last day in the middle\\nin the middle\\nin the middle of a night\\nin the middle\\nin the middle\\nin the middle of a night our last day\\nour last day\\nour last day\\nour last day\\nour last day\\nour last day\\ninterlude\\nour last day\\nour last day\\nour last day\\nour last day\\nour last day\\nour last day x our last day\\ni'm coming home to you\\nour last day\\nour last day\\ni'm coming home to you\\nour last day in the middle\\nin the middle\\nin the middle of a night\\nin the middle\\nin the middle\\nin the middle of a night in the middle\\nin the middle\\nin the middle of a night\\nin the middle\\nin the middle\\nin the middle of a night pistol give me the pistol\\naim it high\\ni'm out in the desert\\nshooting at the sky\\nguess i really miss you\\nand i don't know what else to do beautiful pictures\\nthat you took of us\\nused to hang up there\\non your bedroom walls\\nbut you took 'em all down now\\nand you put 'em into a drawer you've been on my mind\\nyou've been on my mind\\nyou've been on my mind so long\\ni can't deal with it\\nyou've been on my mind\\nand i'll waste my time\\n'til you lift me off the floor\\nand love me again i know if i saw you\\nand we kissed just once\\nyou could be happy\\nmaybe you'd come back\\n'cause i really miss you\\ndon't know how much more i can take you've been on my mind\\nyou'v been on my mind\\nyou've been on my mind so long\\ni can't deal with it\\nyou've been on my mind\\nand i'll wast my time\\n'til you lift me off the floor\\nand love me again oh, yeah\\n'til you lift me off the floor\\nand love me again\\noh, yeah please don’t cry please don't cry, my love, goodbye, oh\\nplease don't cry, my love, goodbye\\ni want to stay, but now it's time\\nso please don't cry, my love please don't cry, my love, goodbye\\nplease don't cry, my love, goodbye\\n'cause i want to stay, but now it's time\\nso please don't cry, my love please don't stay that way\\nplease don't stay\\n'cause you know that it's hard when you look that way\\nknow that it's hard when you talk that way\\nso please don't say please don't cry, my love, goodbye\\nplease don't cry, my love, goodbye\\n'cause i want to stay, but now it's time\\nso please don't cry, my love, hey please don't cry, my love, goodbye\\nplease don't cry, my love, goodbye\\n'cause i want to stay, but now it's time\\nso please don't cry, my love 'cause you know that it's hard when you look that way\\nknow that it's hard when you talk that way\\nyou know that it's hard when you look that way\\nand you know that it's hard when you talk that way, so please don't say goodbye\\nplease don't say goodbye\\nplease\\nplease\\nplease don't say goodbye\\nplease don't say goodbye\\ngoodbye\\ngoodbye\\ngoodbye pure when you walk in the room\\nin a white bodysuit\\nand i say, take it off\\nso youtellme to watch whenit's pure\\nonly your love could getme to fall\\nwhen it's deep, gets so hot\\nand it's so beautiful and the tv is on\\nwhen we make love because\\nwe get carried away\\nwe don't care anyway when it's pure\\nonly your love could get me to fall\\nwhen it's deep, gets so hot\\nand it's so beautiful wrapped your hair in a towel\\nbut i watch you let it down\\nand it's all soaking wet\\nas you take me in your mouth\\nand we stare at the street\\nfrom the back balcony\\nbut now all i can see\\nis you undressing for me when it's pure\\nonly your love could get me to fall\\nwhen it's deep, gets so hot\\nand it's so beautiful run towards your fear here, right here\\nwhen it's too much for me to take they can't see straight\\nwhen it's too much for you to take you're the only one\\nyou're the only one i'm the only one you're dressed in black & following the purple string\\nso run towards your fears\\nwhen it's too much for you to take i can't believe the way you breathe\\non the mirror leaves often marks\\ni draw your name inside the cloud\\nyou laugh\\nso what begins? sesame syrup staring at your kate moss shower curtain\\nlying on the bathroom floor naked\\nhiding coke inside all your orange pixy stix\\nyou take a rail & spread it on your tit you've had a long list of lovers\\nbut none of them matter to you except me\\ni've had a long list of lovers\\nbut none of them matter to me except you sesame syrup\\ni heard it a long time ago\\nsesame syrup\\ni heard it a long time ago there's a small black notebook that you keep hidden underneath your bed\\ni've seen before\\nit says every dirty thing that you did with every single boy\\nyou've ever been with you've had a long list of lovers\\nbut none of them matter to you except me\\ni've had a long list of lovers\\nbut none of them matter to me except you sesame syrup\\ni heard it a long time ago\\nsesame syrup\\ni heard it a long time ago and we fall asleep to the scent\\nsleep to the scent of long stemmed roses\\nalways dreaming of dreaming of on the ceiling\\nand we sleep to the scent\\nsleep to the scent of long stemmed roses\\nalways dreaming of dreaming of on the ceiling sesame syrup\\ni heard it a long time ago\\nsesame syrup\\ni heard it a long time ago silver sable none sing sing\\ntake me on the wing\\ni could be forever scattered through the wind\\nfeels like a sin\\nfeels like a call into the forest\\nliving like a bird flying through the air\\ni don't feel anymore\\ncoming through\\nforces on the light\\n& i know that\\ncome & laugh\\nwhen you said\\ni get away i'm falling through\\nevery single word is another river\\ntaking off her clothes\\ntaking off her dress\\nnow it's all white\\n& the yellow sun is feeling like a bite i don't care anymore\\ni don't see it again\\nwhen you follow me left\\ninto the lens with the camera now\\ni don't feel like coming back again\\ni don't feel a floor feels a little strange... spanish prayers and on this time before i could tell\\nthrew my last wish into the well\\nand i was making to leave\\njust when you said won't you come home with me? and as we walk i tell you the tale\\nof when i was so broke, wounded and frailed\\nthey built a statue of me\\nstanding right there\\n? from the arms of the chair\\nfilled up my lungs with ? air\\n? inside a jumping balloon we’re running into our love\\nbanging a spanish drum\\nlocked in a cathedral\\ndrinking the spanish rum\\nwe are members of a clan\\neven if they don't care\\nblowing all the speakers\\nsinging a spanish prayer slowly ? tears right to my eyes\\nwhat a surprise\\nthat i'm here watching you now\\ngetting undressed\\n? dreams with their hearts on their sleeves\\nin the middle of a night makes me cry\\nthat i’m looking for you standing right there we're running into our love\\nbanging a spanish drum\\nthen we're locked in a cathedral\\ndrinking the spanish rum\\nwe are members of a clan\\neven if they don't care\\nblowing all the speakers\\nsinging a spanish prayer slowly starry eyes starry eyes\\nhow can i get to you, my true little\\nstarry eyes?\\nwhat can i say or do for you, my little\\nstarry eyes?\\nstarry eyes forever\\nshall be mine\\nstarry eyes\\nwhat can i say to make you listen?\\nstarry eyes\\nwhat can i do for your attention?\\nstarry eyes\\nstarry eyes forever\\nshall be mine when i'm alone, i hear and feel you\\nwish that i could reach right out and touch you\\nbut knowing you're the one to greet me, and meet me\\ntwo alone in the dark, may it be starry eyes\\nthe sparks will fall on me\\nstarry eyes\\nwon't you listen that i'm here being\\nfor you, starry eyes?\\nstarry eyes forever\\nshall be mine starry eyes forever\\nshall be mine stop waiting in her favorite locket, hiding yellow pills\\nwith white wine to chase them, lying on the hills\\nwe kissed until we couldn't breathe\\nthe coldest sand is on the beach now she's in her swimsuit with the yellow straps\\ncutting it with scissors 'til there's nothing left\\nand rubbing sunscreen on her breasts\\nshe's putting on her sunglasses i could win, i could lose\\nbut that's a look i can't refuse\\ni could win, i could lose\\nbut that's a look i can't refuse\\nstop waiting break i could win, i could lose\\nbut that's a look i can't refuse\\ni could win, i could lose\\nbut that's a look i can't refuse\\nstop waiting sunsetz sunsets\\nwe wander through a foreign town\\nstrangely, there's nobody else around\\nso you open your dress and show me your tits\\non the swing set at the old playground and when you go away, i still see you\\nwith sunlight on your face in my rear-view sunsets\\ni wanna hear your voice\\na love that nobody could destroy\\ntook photographs like brautigan's book covers\\nthat we both adored and when you go away, i still see you\\nwith sunlight on your face in my rear view\\nthis always happens to me this way\\nrecurring visions of such sweet days\\nand when you go away, i still see you\\nwith sunlight on your face in my rear view\\nwhen you go away, i still see you\\nwith sunlight on your face in my rear view sweet watching the video that you sent me\\nthe one where you're showering with wet hair dripping\\nyou know that i'm obsessed with your body\\nbut it's the way you smile that does it for me it's so sweet, knowing that you love me\\nthough we don't need to say it to each other, sweet\\nknowing that i love you, and running my fingers through your hair\\nit's so sweet watching the video where you're lying\\nin your red lingerie ten times nightly\\nyou know i think your skin's the perfect color\\nbut it's always your eyes that pull me under it's so sweet, knowing that you love me\\nthough we don't need to say it to each other, sweet\\nknowing that i love you, and running my fingers through your hair\\nit's so sweet and i will gladly break it, i will gladly break my heart for you\\nand i will gladly break it, i will gladly break my heart for you\\nand i will gladly break it, i will gladly break my heart for you\\nand i will gladly break it, i will gladly break my heart for you it's so sweet, knowing that you love me\\nthough we don't need to say it to each other, sweet\\nknowing that i love you, and running my fingers through your hair\\nit's so sweet tejano blue we wanted to fuck with real love\\nwanted it sweet, so pure and warm\\nnever only sleepin' over\\nwe wanted to fuck like all the time\\nand when you got back from your flight\\nit was the first thing we did and when you say you want it all\\ni know you want it all\\nbaby, take it all from me\\nand when you drag me on the floor\\nand the blue tejano's on\\nyou keep your eyes on me so get in the waves, swim in your leather\\ni always will make it feel like you were the last one\\nso get in the waves like it was the first time\\nbless your heart, make you part of my life forever in shorts so high-waist\\nthe girl in the arcade\\nsaid they were the shortest-ever\\nand the rest like holiday\\nthe live one where she sang\\ndancin' in a polka-dot top and when you say you want it all\\ni know you want it all\\nbaby, take it all from me\\nand when you drag me on the floor\\nand the blue tejano's on\\nyou keep your eyes on me so get in the waves, swim in your leather\\ni always will make it feel like you were the last one\\nso get in the waves like it was the first time\\nbless your heart, make you part of my life forever\\nget in the waves, swim in your leather\\ni always will make it feel like you were the last one\\nso get in the waves like it was the first time\\nbless your heart, make you part of my life forever, and always\\nand always touch oh, i missed you and i cried\\nbut i said that i was alright\\nand i knowit'sbeen a while\\nsincei needed a distraction ’cause i wannado everything\\nthat you want me to, to tell you the truth\\ni need to stay alive\\nso sad that i could die it's leading me on, every time we touch\\nleading me on, every time it hurts\\nfeeling so lonely, 'cause it’s not enough\\nmissin' you only, ever since we fell in love and i watched you do a line\\nthat you spread out on the table\\ni don't need to see you wired\\ni just wanna see you upside down i wanna do everything\\nthat you want me to, to tell you the truth\\ni listen to you cry all night\\nthrough the telephone it's leading me on, every time we touch\\nleading me on, every time it hurts\\nfeeling so lonely, 'cause it's not enough\\nmissin' you only, ever since we fell in love couldn't say you didn’t want me then\\nwhen we were lyin’ in my bed that night\\nyou were acting like a different person\\nas if suddenly you wanted to just be friends\\ni was hurt and so i took a shower\\nso you couldn't hear me, knowing i had to cry\\nsad to know that while my heart was breaking\\nyou were sleeping or just faking it’s leading me on, every time we touch\\nleading me on, every time it hurts\\nfeeling so lonely, 'cause it's not enough\\nmissin' you only, ever since we fell in love \""
      ]
     },
     "execution_count": 6,
     "metadata": {},
     "output_type": "execute_result"
    }
   ],
   "source": [
    "cleaned = clean_data(filename, artist_name)\n",
    "cleaned"
   ]
  },
  {
   "cell_type": "code",
   "execution_count": 13,
   "metadata": {},
   "outputs": [
    {
     "name": "stdout",
     "output_type": "stream",
     "text": [
      "elapsed = 0.18115997314453125s\n",
      "affection, always\n",
      "ooh, you're holdin' me\n",
      "oh, and you're gonna go back then i'd stay that way\n",
      "know that it's a bad habit you just can't deal with it\n",
      "you've been hiding coke inside the cloud\n",
      "you laugh\n",
      "so what can i say that way\n",
      "so please don't need to say\n",
      "i need your helping hand\n",
      "oh, i needto tell you had\n",
      "gave me again oh, yeah please don't cry, my love and when you following all the lonely roads aren't how they were the white swan in the streets\n",
      "with nothing's gonna hurt you baby\n",
      "nothing on to you, my lips\n",
      "ohh\n",
      "waterfalls, i'm just a hurricane eye\n",
      "they're not a little\n",
      "starry eyes\n",
      "the sparks will make it feel like you part of my voice\n",
      "a love to me now\n",
      "don't let me go when it brings you down\n",
      "it gives you understand?\n",
      "don't you know the lonely, 'cause i know you love me\n",
      "though i guess i really miss you\n",
      "don't you know that i could destroy\n",
      "took photograph\n",
      "do the right thing, baby\n",
      "i feel i'm just a hurricane ye hurricane ye hurricane ye hurricane eye hurricane eye\n",
      "they're not a little too shy t\n"
     ]
    }
   ],
   "source": [
    "t0 = time.time()\n",
    "lm = train_lm(cleaned, 8)\n",
    "t1 = time.time()\n",
    "print(\"elapsed = \" + str(t1 - t0) + \"s\")\n",
    "print(generate_text(lm, 8, 1000))"
   ]
  },
  {
   "cell_type": "code",
   "execution_count": 14,
   "metadata": {},
   "outputs": [
    {
     "name": "stdout",
     "output_type": "stream",
     "text": [
      "elapsed = 0.19298291206359863s\n",
      "affection, always\n",
      "ooh, you're dressed in black & following the purple string\n",
      "so run towards your fear here, right here\n",
      "when it's pure\n",
      "only your love to me this way\n",
      "saying you'd waitforme to stay\n",
      "iknow it hurts\n",
      "feeling it slow, over this dream\n",
      "touch me with a kiss, touch me with a kiss 'cause this is where\n",
      "i wanna hear your voice\n",
      "a love that you want to stay, but now it's all about\n",
      "i'm standing on earth well, i never wanted to fuck with real love\n",
      "wanted it sweet, so pure and warm\n",
      "never only sleepin' over\n",
      "we wanted to sing wanted to sing wanted to be with you've had a long list of lovers\n",
      "but none of them matter to me except you sesame syrup\n",
      "i heard it a long time ago\n",
      "sesame syrup\n",
      "i heard it a long time ago\n",
      "sesame syrup staring death right between us die that's called the falling in love and when you're above feeling like a bite i don't need a friend to call my own\n",
      "'cause i want to stay, but now it's time\n",
      "so please don't shut up\n",
      "and when you say you didn’t want me then kristen, come right\n"
     ]
    }
   ],
   "source": [
    "t0 = time.time()\n",
    "lm = train_lm(cleaned, 10)\n",
    "t1 = time.time()\n",
    "print(\"elapsed = \" + str(t1 - t0) + \"s\")\n",
    "print(generate_text(lm, 10, 1000))"
   ]
  },
  {
   "cell_type": "code",
   "execution_count": 15,
   "metadata": {},
   "outputs": [
    {
     "name": "stdout",
     "output_type": "stream",
     "text": [
      "elapsed = 0.09762930870056152s\n",
      "affection i know that it's hard when you walk in the room\n",
      "in a white bodysuit\n",
      "and i say, take it all from me\n",
      "and when it brings you down\n",
      "it gives you butterflies break and now i'm longing for you to fall for you i just can't be faithful for long\n",
      "i swear i'll only make you part of my life forever scattered through the night train used to be around\n",
      "lost and found\n",
      "thinking of me dead was making you cry every time it hurts\n",
      "feeling so lonely, 'cause it's the only one you're dressed in black & following the purple string\n",
      "so run towards your fears\n",
      "when it's late, we'll say we're still together and i meant every word i said\n",
      "when i said that i love you forever and you just can't quit kiss it off me\n",
      "if you're gonna break my heart\n",
      "this is a good start\n",
      "kiss it off me\n",
      "if you're gonna break my heart\n",
      "this is a good start\n",
      "kiss it off me kiss it off me you always bite your lips crush\n",
      "hold you here, my loveliest friend catch my heart, go swim\n",
      "feel your lips crush\n",
      "hold you here, my loveliest friend instu\n"
     ]
    }
   ],
   "source": [
    "t0 = time.time()\n",
    "lm = train_lm(cleaned, 11)\n",
    "t1 = time.time()\n",
    "print(\"elapsed = \" + str(t1 - t0) + \"s\")\n",
    "print(generate_text(lm, 11, 1000))"
   ]
  },
  {
   "cell_type": "markdown",
   "metadata": {},
   "source": [
    "# More Examples"
   ]
  },
  {
   "cell_type": "markdown",
   "metadata": {},
   "source": [
    "## Lana Del Rey"
   ]
  },
  {
   "cell_type": "code",
   "execution_count": 20,
   "metadata": {},
   "outputs": [
    {
     "name": "stdout",
     "output_type": "stream",
     "text": [
      "elapsed = 1.1664507389068604s\n",
      " beaches it took thousands of people\n",
      "to put me to bed\n",
      "happy people think that's wrong?\n",
      "don't cry, honey, crazy girl\n",
      "don't you wanna fall in love, just wanna marry you, just wanna dance dance\n",
      "with you next to me\n",
      "it's so sweet swingin' to the beach and the road to the jersey shore\n",
      "one stoppin' at -eleven\n",
      "there in his white wine\n",
      "funny i don't feel the same\n",
      "once you've had a taste of living my life to speak on this mic\n",
      "and through my fingers\n",
      "you're the bossblue jeans official videoblue velvet mmm she wore blue velvet\n",
      "bluer than velvet was the light in\n",
      "at your back door yelling 'cause i like the bad boys blow smoke\n",
      "just like th good old days, tangos and tanqueray nothing can hurt me now\n",
      "nothing could satisfy you 'til the end of love's forever forever, but that don't matter to you what an unusual name, you said\n",
      "you told me love was enough, but it was not enough and bad enough baby\n",
      "i don’t wanna be friends are lost, nobody's grandma\n",
      "watching the chemtrails over the briscola club i'm on the si\n"
     ]
    }
   ],
   "source": [
    "lana = clean_data(\"ldr_lyrics.txt\", \"Lana Del Rey\")\n",
    "t0 = time.time()\n",
    "lm = train_lm(lana, 11)\n",
    "t1 = time.time()\n",
    "print(\"elapsed = \" + str(t1 - t0) + \"s\")\n",
    "print(generate_text(lm, 11, 1000))"
   ]
  },
  {
   "cell_type": "markdown",
   "metadata": {},
   "source": [
    "## TV Girl Lyrics"
   ]
  },
  {
   "cell_type": "code",
   "execution_count": 32,
   "metadata": {},
   "outputs": [
    {
     "name": "stdout",
     "output_type": "stream",
     "text": [
      "elapsed = 0.3166468143463135s\n",
      " days til sunday she said come to a stone and a half, it just can't ignore me\n",
      "you know exactly like a fool in love, like a breeze and the fire\n",
      "but you want revenge, you go, when we kissed, same ones that kind of felt like you don't know why and you do whatever makethemstay\n",
      "pretty boy if it gives you see me i'll be, i'll be faithful i’m someone conclusions\n",
      "just to know\n",
      "i hope you don't care which handsome stardust as he reached and i’m glad that all you want oh darling, everything's ruined\n",
      "i can't shove it out\n",
      "you can and tell me everyone knows\n",
      "because she can't go untold\n",
      "and i'm starting to turn the vein\n",
      "plug me in\n",
      "entertainment information, booth ?\n",
      "didn't end when the rumors true, did you get lucky\n",
      "i give your headdress\n",
      "laying low key\n",
      "m and one by one to hang in '\n",
      "and i heard it through the wine\n",
      "he had the drinks\n",
      "because struggle so as we try to aim at me, but crystal pistol with these days and pretend\n",
      "that i told ya?\n",
      "'cause he'll never know\n",
      "oh, heart, i never left them sound\n",
      "the way \n"
     ]
    }
   ],
   "source": [
    "tvgirl = clean_data(\"tvgirl_lyrics.txt\", \"Brad Petering Jason Wyman Wyatt Harmon\") # since \"tv\" and \"girl\" would get filtered out, let's filter the artists' names instead\n",
    "t0 = time.time()\n",
    "lm = train_lm(tvgirl, 8)\n",
    "t1 = time.time()\n",
    "print(\"elapsed = \" + str(t1 - t0) + \"s\")\n",
    "print(generate_text(lm, 8, 1000))"
   ]
  },
  {
   "cell_type": "markdown",
   "metadata": {},
   "source": [
    "## Del Water Gap"
   ]
  },
  {
   "cell_type": "code",
   "execution_count": 34,
   "metadata": {},
   "outputs": [
    {
     "name": "stdout",
     "output_type": "stream",
     "text": [
      "elapsed = 0.21272969245910645s\n",
      "a clear mind, a better first i met you you had all your milk money\n",
      "stash it in my bones ain't any use\n",
      "oh well i should go swimming now\n",
      "hoping that i left, it rises slow\n",
      "more than any time before\n",
      "and i've been lonesome too soon\n",
      "i wanna tell her\n",
      "to walk out for a while\n",
      "oh, to rest for a while\n",
      "oh, to rest for a while\n",
      "oh, to rest for a while\n",
      "oh, to rest for a piece right thing\n",
      "still on my way back before you were by far the pretty boring, well me that nobody else touching you right now, you're born and live inside my heart, killing people just tell me it's a slow burn\n",
      "coping on unemployment\n",
      "cracking her hair\n",
      "she pins you to leave\n",
      "'cause it's all my days\n",
      "i’d do them over and over and over again\n",
      "i'm getting sicker and sicker\n",
      "at the back door baby be my runaway\n",
      "on the bed, oh and how we do it both\n",
      "let's keep living on cigarette, till i'm back in his living on cigarettes\n",
      "from the deck out by the weight of being strangers\n",
      "i needed a beer and a hug and a way out of the dark\n",
      "the power's been a lo\n"
     ]
    }
   ],
   "source": [
    "dwg = clean_data(\"dwg_lyrics.txt\", \"Samuel Jaffe\")\n",
    "t0 = time.time()\n",
    "lm = train_lm(dwg, 9)\n",
    "t1 = time.time()\n",
    "print(\"elapsed = \" + str(t1 - t0) + \"s\")\n",
    "print(generate_text(lm, 9, 1000))"
   ]
  },
  {
   "cell_type": "markdown",
   "metadata": {},
   "source": [
    "## Beabadoobee"
   ]
  },
  {
   "cell_type": "code",
   "execution_count": 38,
   "metadata": {},
   "outputs": [
    {
     "name": "stdout",
     "output_type": "stream",
     "text": [
      "elapsed = 0.21193385124206543s\n",
      " you don't think i could never figure things i spent\n",
      "making animal noises with a messy room\n",
      "still had the pretty snowflakes\n",
      "falling on ros\n",
      "turning gold into grey and there's worse badoobadoo\n",
      "wait, i got on a place that man in the same dark place that one day\n",
      "one day\n",
      "one day more\n",
      "we could do the same\n",
      "i'm tryna do it right\n",
      "so why won't hear a single word you finally figure things that's why i’m sipping on ros\n",
      "gold into grey and the clouds are tired of getting too old for the last night do-do-do-do, do-do-do-do-do\n",
      "do-do-do scared\n",
      "boy, i’m scared\n",
      "no matter when we should watch your fault\n",
      "it’s not too late\n",
      "oh, getting tired of getting at home, cry to pavement\n",
      "i wish we could never known\n",
      "i've realised, you just wanna see you sure?\n",
      "you things that i'm right amount of sugar how you like my mind, we'reoffsoon\n",
      "she says the same\n",
      "but are you sure? it's exaggerated, we both in space\n",
      "you sit across from live performance could do the secrets\n",
      "don't go on\n",
      "all the same\n",
      "but i think i'm falling well, it w\n"
     ]
    }
   ],
   "source": [
    "bea = clean_data(\"beabadoobee_lyrics.txt\", \"Bea\")\n",
    "t0 = time.time()\n",
    "lm = train_lm(bea, 8)\n",
    "t1 = time.time()\n",
    "print(\"elapsed = \" + str(t1 - t0) + \"s\")\n",
    "print(generate_text(lm, 8, 1000))"
   ]
  },
  {
   "cell_type": "markdown",
   "metadata": {},
   "source": [
    "## Clairo"
   ]
  },
  {
   "cell_type": "code",
   "execution_count": 44,
   "metadata": {},
   "outputs": [
    {
     "name": "stdout",
     "output_type": "stream",
     "text": [
      "elapsed = 0.16307687759399414s\n",
      " hold u is it so hard to say to you, but\n",
      "if touch me now\n",
      "now mm-mm-mm-mm\n",
      "mm-mm-mm blue angel\n",
      "i heard you\n",
      "oh and\n",
      "everything i wouldn't say out loud, but\n",
      "if touch could make the dirt left in between the day that all comes back to georgia i just need you anything for the ride, i'm all alone\n",
      "still hurts deep, i don’t care about me?\n",
      "can you figure it out here just landed in another  years\n",
      "i don't get up\n",
      "and so we meet again at the party just to concentrate\n",
      "are you that i could make them hear, then my cheeks are so, so pure\n",
      "so... don't cry\n",
      "boys don't wanna be around\n",
      "all the watercolour paint\n",
      "and i’m safe right i could tell you flee?\n",
      "call me dear\n",
      "but not too hard\n",
      "remember when you my whole life\n",
      "i met you hate what it's okay\n",
      "but i can see you it will spin on its axis and find me on read\n",
      "i don't want you should think that it could be just floating, my head\n",
      "i don't leave break pulling back, i tried to, you want me, lie here for you anything you for a minute minute minute counts\n",
      "i don't wanna tal\n"
     ]
    }
   ],
   "source": [
    "clairo = clean_data(\"clairo_lyrics.txt\", \"Clairo\")\n",
    "t0 = time.time()\n",
    "lm = train_lm(clairo, 8)\n",
    "t1 = time.time()\n",
    "print(\"elapsed = \" + str(t1 - t0) + \"s\")\n",
    "print(generate_text(lm, 8, 1000))"
   ]
  },
  {
   "cell_type": "markdown",
   "metadata": {},
   "source": [
    "## Gracie Abrams"
   ]
  },
  {
   "cell_type": "code",
   "execution_count": 46,
   "metadata": {},
   "outputs": [
    {
     "name": "stdout",
     "output_type": "stream",
     "text": [
      "elapsed = 0.3145420551300049s\n",
      " i missed your outline\n",
      "you were the best of this time i've packed my bags in the sky mm\n",
      "you can keep it locked away until you really listen\n",
      "i hate the image of you\n",
      "a little more of you\n",
      "i know you don't know what i'm shattered but we'll fix your broken pieces\n",
      "i'm thinking everything in-between everythin' to me, next to me when we talk\n",
      "you start to let go\n",
      "when the lights\n",
      "don't love you yet, but probably go back home\n",
      "why does that feel difficult, difficult my double vision, spinning around it, all for nothing left to say, before i turn away\n",
      "your words felt like a hard rain in\n",
      "i'm pretty crier and now she's beautiful and funny and smart like nothin' now when you're just kicking it what are drugs, if not a bump in the middle of the bar\n",
      "you're probably wasted\n",
      "wasted and part of me wants you backwards?\n",
      "jump in the shallow end headfirst\n",
      "burn my emergency contact\n",
      "run for the better\n",
      "you’re a dead-end street\n",
      "but won't work like the burden oh\n",
      "but i'm not your face and know that we're not seeing yo\n"
     ]
    }
   ],
   "source": [
    "gracie = clean_data(\"gracieabrams_lyrics.txt\", \"Gracie Abrams\")\n",
    "t0 = time.time()\n",
    "lm = train_lm(gracie, 9)\n",
    "t1 = time.time()\n",
    "print(\"elapsed = \" + str(t1 - t0) + \"s\")\n",
    "print(generate_text(lm, 9, 1000))"
   ]
  },
  {
   "cell_type": "markdown",
   "metadata": {},
   "source": [
    "## Lorde"
   ]
  },
  {
   "cell_type": "code",
   "execution_count": 48,
   "metadata": {},
   "outputs": [
    {
     "name": "stdout",
     "output_type": "stream",
     "text": [
      "elapsed = 0.20558786392211914s\n",
      " lux we're brave and no one around here all supposed to swim now if ya wanna skip my calls now\n",
      "well, your corolla\n",
      "i'm hanging on the mousey hair\n",
      "and the schoolyard\n",
      "oh, me and julio down by the same? do your t-shirt sleeves\n",
      "and claim a new art form\n",
      "showin' people how little but we're at home\n",
      "it drives you crazy over my touch but it's propane for the northern light, i want you in your head, in my heart now we barely hang out\n",
      "i'm just useless and she'll send the whole time and get clean\n",
      "you're a little much fun\n",
      "i didn't compare\n",
      "tell me\n",
      "i love every summer of \n",
      "under the silver sun in the money\n",
      "baby, love me you've got me, runaway\n",
      "you steal the air tonight, lose my mind\n",
      "when you're shooting on like dominoes\n",
      "must feel alright, right, i wanted something\n",
      "some of the secrets\n",
      "your hand forevermore\n",
      "is this temptation\n",
      "fallin' right way to do the clear that touched a nerve\n",
      "you can hang with us, us\n",
      "but what i'd be without weight now\n",
      "i heard me right in the silver sun in the pictures yeah\n",
      "getting you\n"
     ]
    }
   ],
   "source": [
    "lorde = clean_data(\"lorde_lyrics.txt\", \"Lorde\")\n",
    "t0 = time.time()\n",
    "lm = train_lm(lorde, 8)\n",
    "t1 = time.time()\n",
    "print(\"elapsed = \" + str(t1 - t0) + \"s\")\n",
    "print(generate_text(lm, 8, 1000))"
   ]
  },
  {
   "cell_type": "markdown",
   "metadata": {},
   "source": [
    "## Troye Sivan"
   ]
  },
  {
   "cell_type": "code",
   "execution_count": 52,
   "metadata": {},
   "outputs": [
    {
     "name": "stdout",
     "output_type": "stream",
     "text": [
      "elapsed = 0.6165802478790283s\n",
      "/ now we're livin'\n",
      "it's the hardest thing i've said guess i might understand it\n",
      "if you couldn't give a fuck & gordi\n",
      "i remember how we got those moves\n",
      "people wanna know how we got that feelin' alive, a teenager\n",
      "tryna figure it out\n",
      "living for, like, look at you are or i can take\n",
      "they can fight up until we drink from the silenc\n",
      "of a hollywood love affair\n",
      "waking up at you all to myself\n",
      "when i'm feeling right\n",
      "i drink but i can't make it to number one\n",
      "open your eyes my dreams that you want\n",
      "translate your lip\n",
      "now run with it\n",
      "let's fuck around , social media proved indispensable to shaping his pointy black helmut lang boots about on the front seat\n",
      "fun, you and me in the stairs\n",
      "talk about, nah\n",
      "all she wanna know how i'm doing all this nerve, how did i come to lose my blue moon boyfriend – a model and photographer named jacob bixenman – he hit his pool for a soak. he pointedly did not believe that i know you know i'm vulnerable, so sad and alone\n",
      "but i can't even mind at all, mm\n",
      "it's like superna\n"
     ]
    }
   ],
   "source": [
    "troye = clean_data(\"troyesivan_lyrics.txt\", \"Troye Sivan\")\n",
    "t0 = time.time()\n",
    "lm = train_lm(troye, 9)\n",
    "t1 = time.time()\n",
    "print(\"elapsed = \" + str(t1 - t0) + \"s\")\n",
    "print(generate_text(lm, 9, 1000))"
   ]
  },
  {
   "cell_type": "markdown",
   "metadata": {},
   "source": [
    "## Ariana Grande"
   ]
  },
  {
   "cell_type": "code",
   "execution_count": 55,
   "metadata": {},
   "outputs": [
    {
     "name": "stdout",
     "output_type": "stream",
     "text": [
      "elapsed = 0.1605377197265625s\n",
      " you know, baby oh\n",
      "almost baby, but we ain't my thing\n",
      "the way i've been eatin' healthy\n",
      "you know, baby oh, i won't ever come out right\n",
      "i get all tongue-tied and twisted\n",
      "i can't explaining, i'm sure it's very draining\n",
      "pulling off a christmas eve world tour\n",
      "my point in this very worthy cause\n",
      "how 'bout we take a moment\n",
      "yeah, to get an a how to sing it out\n",
      "c'mon, c'mon, lemme show you how to get an a\n",
      "spell me and yours, i want it yeah, yeah, and he's all that\n",
      "hm, yeah, yeah\n",
      "boy, you might not dance like m.j., r.i.p\n",
      "but i will give the best of me all i want for christmas\n",
      "this is it's his marvelous missus\n",
      "who gets it done the other three-six-four\n",
      "who's really fucking good, everybody else, woo\n",
      "billy bought it\n",
      "i see it, i want it, i got it, yeah, forget about him, yeah\n",
      "billy gonna wake his wife gon' live in a bit closer\n",
      "a little bit smarter\n",
      "a little more homework\n",
      "we all have a little bit older\n",
      "a little bit braver\n",
      "a little bit older\n",
      "a little bit of time away?\n",
      "i got a bad idea i've been doing stu\n"
     ]
    }
   ],
   "source": [
    "ari = clean_data(\"arianagrande_lyrics.txt\", \"Ariana Grande\")\n",
    "t0 = time.time()\n",
    "lm = train_lm(ari, 9)\n",
    "t1 = time.time()\n",
    "print(\"elapsed = \" + str(t1 - t0) + \"s\")\n",
    "print(generate_text(lm, 9, 1000))"
   ]
  },
  {
   "cell_type": "markdown",
   "metadata": {},
   "source": []
  }
 ],
 "metadata": {
  "kernelspec": {
   "display_name": "ml",
   "language": "python",
   "name": "python3"
  },
  "language_info": {
   "codemirror_mode": {
    "name": "ipython",
    "version": 3
   },
   "file_extension": ".py",
   "mimetype": "text/x-python",
   "name": "python",
   "nbconvert_exporter": "python",
   "pygments_lexer": "ipython3",
   "version": "3.12.4"
  }
 },
 "nbformat": 4,
 "nbformat_minor": 2
}
